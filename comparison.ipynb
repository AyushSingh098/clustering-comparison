{
 "cells": [
  {
   "cell_type": "code",
   "execution_count": 35,
   "metadata": {},
   "outputs": [],
   "source": [
    "import pandas as pd\n",
    "compare_df = pd.read_pickle('./result/result.pkl')"
   ]
  },
  {
   "cell_type": "code",
   "execution_count": 124,
   "metadata": {},
   "outputs": [
    {
     "data": {
      "text/html": [
       "<div>\n",
       "<style scoped>\n",
       "    .dataframe tbody tr th:only-of-type {\n",
       "        vertical-align: middle;\n",
       "    }\n",
       "\n",
       "    .dataframe tbody tr th {\n",
       "        vertical-align: top;\n",
       "    }\n",
       "\n",
       "    .dataframe thead th {\n",
       "        text-align: right;\n",
       "    }\n",
       "</style>\n",
       "<table border=\"1\" class=\"dataframe\">\n",
       "  <thead>\n",
       "    <tr style=\"text-align: right;\">\n",
       "      <th></th>\n",
       "      <th>ARI</th>\n",
       "      <th>MI</th>\n",
       "      <th>HCV</th>\n",
       "      <th>FM</th>\n",
       "      <th>SC</th>\n",
       "      <th>CH</th>\n",
       "      <th>DB</th>\n",
       "      <th>X</th>\n",
       "    </tr>\n",
       "  </thead>\n",
       "  <tbody>\n",
       "    <tr>\n",
       "      <th>K-Means</th>\n",
       "      <td>0.730238</td>\n",
       "      <td>0.748372</td>\n",
       "      <td>0.751485</td>\n",
       "      <td>0.820808</td>\n",
       "      <td>0.552819</td>\n",
       "      <td>561.628</td>\n",
       "      <td>0.661972</td>\n",
       "      <td>0.730238</td>\n",
       "    </tr>\n",
       "    <tr>\n",
       "      <th>K-Medoids</th>\n",
       "      <td>0.758338</td>\n",
       "      <td>0.775961</td>\n",
       "      <td>0.778732</td>\n",
       "      <td>0.839493</td>\n",
       "      <td>0.520198</td>\n",
       "      <td>521.561</td>\n",
       "      <td>0.668624</td>\n",
       "      <td>0.758338</td>\n",
       "    </tr>\n",
       "    <tr>\n",
       "      <th>AGNES - Wand</th>\n",
       "      <td>0.731199</td>\n",
       "      <td>0.757803</td>\n",
       "      <td>0.760801</td>\n",
       "      <td>0.82217</td>\n",
       "      <td>0.554324</td>\n",
       "      <td>558.058</td>\n",
       "      <td>0.656256</td>\n",
       "      <td>0.731199</td>\n",
       "    </tr>\n",
       "    <tr>\n",
       "      <th>AGNES - Single</th>\n",
       "      <td>0.563751</td>\n",
       "      <td>0.582093</td>\n",
       "      <td>0.587916</td>\n",
       "      <td>0.763517</td>\n",
       "      <td>0.512111</td>\n",
       "      <td>277.995</td>\n",
       "      <td>0.447154</td>\n",
       "      <td>0.563751</td>\n",
       "    </tr>\n",
       "    <tr>\n",
       "      <th>AGNES - Average</th>\n",
       "      <td>0.759199</td>\n",
       "      <td>0.793425</td>\n",
       "      <td>0.795982</td>\n",
       "      <td>0.840729</td>\n",
       "      <td>0.554161</td>\n",
       "      <td>556.88</td>\n",
       "      <td>0.658444</td>\n",
       "      <td>0.759199</td>\n",
       "    </tr>\n",
       "    <tr>\n",
       "      <th>AGNES - Complete</th>\n",
       "      <td>0.642251</td>\n",
       "      <td>0.696348</td>\n",
       "      <td>0.700115</td>\n",
       "      <td>0.768637</td>\n",
       "      <td>0.513595</td>\n",
       "      <td>485.905</td>\n",
       "      <td>0.633334</td>\n",
       "      <td>0.642251</td>\n",
       "    </tr>\n",
       "    <tr>\n",
       "      <th>BIRCH</th>\n",
       "      <td>0.442613</td>\n",
       "      <td>0.452943</td>\n",
       "      <td>0.900422</td>\n",
       "      <td>0.604983</td>\n",
       "      <td>0.326531</td>\n",
       "      <td>363.334</td>\n",
       "      <td>1.00105</td>\n",
       "      <td>0.442613</td>\n",
       "    </tr>\n",
       "    <tr>\n",
       "      <th>DBSCAN</th>\n",
       "      <td>0.520619</td>\n",
       "      <td>0.554365</td>\n",
       "      <td>0.559946</td>\n",
       "      <td>0.705385</td>\n",
       "      <td>0.486034</td>\n",
       "      <td>220.298</td>\n",
       "      <td>7.22245</td>\n",
       "      <td>0.520619</td>\n",
       "    </tr>\n",
       "    <tr>\n",
       "      <th>Log. Regression</th>\n",
       "      <td>0.916553</td>\n",
       "      <td>0.902253</td>\n",
       "      <td>0.907494</td>\n",
       "      <td>0.944284</td>\n",
       "      <td>NaN</td>\n",
       "      <td>NaN</td>\n",
       "      <td>NaN</td>\n",
       "      <td>0.916553</td>\n",
       "    </tr>\n",
       "    <tr>\n",
       "      <th>Affinity Propogation</th>\n",
       "      <td>0.802209</td>\n",
       "      <td>0.797547</td>\n",
       "      <td>0.80005</td>\n",
       "      <td>0.867704</td>\n",
       "      <td>0.521386</td>\n",
       "      <td>528.511</td>\n",
       "      <td>0.687832</td>\n",
       "      <td>0.802209</td>\n",
       "    </tr>\n",
       "    <tr>\n",
       "      <th>Mean Shift</th>\n",
       "      <td>0.558371</td>\n",
       "      <td>0.550981</td>\n",
       "      <td>0.553749</td>\n",
       "      <td>0.764206</td>\n",
       "      <td>0.685788</td>\n",
       "      <td>509.703</td>\n",
       "      <td>0.388552</td>\n",
       "      <td>0.558371</td>\n",
       "    </tr>\n",
       "  </tbody>\n",
       "</table>\n",
       "</div>"
      ],
      "text/plain": [
       "                           ARI        MI       HCV        FM        SC  \\\n",
       "K-Means               0.730238  0.748372  0.751485  0.820808  0.552819   \n",
       "K-Medoids             0.758338  0.775961  0.778732  0.839493  0.520198   \n",
       "AGNES - Wand          0.731199  0.757803  0.760801   0.82217  0.554324   \n",
       "AGNES - Single        0.563751  0.582093  0.587916  0.763517  0.512111   \n",
       "AGNES - Average       0.759199  0.793425  0.795982  0.840729  0.554161   \n",
       "AGNES - Complete      0.642251  0.696348  0.700115  0.768637  0.513595   \n",
       "BIRCH                 0.442613  0.452943  0.900422  0.604983  0.326531   \n",
       "DBSCAN                0.520619  0.554365  0.559946  0.705385  0.486034   \n",
       "Log. Regression       0.916553  0.902253  0.907494  0.944284       NaN   \n",
       "Affinity Propogation  0.802209  0.797547   0.80005  0.867704  0.521386   \n",
       "Mean Shift            0.558371  0.550981  0.553749  0.764206  0.685788   \n",
       "\n",
       "                           CH        DB         X  \n",
       "K-Means               561.628  0.661972  0.730238  \n",
       "K-Medoids             521.561  0.668624  0.758338  \n",
       "AGNES - Wand          558.058  0.656256  0.731199  \n",
       "AGNES - Single        277.995  0.447154  0.563751  \n",
       "AGNES - Average        556.88  0.658444  0.759199  \n",
       "AGNES - Complete      485.905  0.633334  0.642251  \n",
       "BIRCH                 363.334   1.00105  0.442613  \n",
       "DBSCAN                220.298   7.22245  0.520619  \n",
       "Log. Regression           NaN       NaN  0.916553  \n",
       "Affinity Propogation  528.511  0.687832  0.802209  \n",
       "Mean Shift            509.703  0.388552  0.558371  "
      ]
     },
     "execution_count": 124,
     "metadata": {},
     "output_type": "execute_result"
    }
   ],
   "source": [
    "compare_df"
   ]
  },
  {
   "cell_type": "code",
   "execution_count": 132,
   "metadata": {},
   "outputs": [],
   "source": [
    "compare_df\n",
    "ari = []\n",
    "mi = []\n",
    "hcv = []\n",
    "fm = []\n",
    "sc = []\n",
    "ch = []\n",
    "db = []\n",
    "for i in compare_df['ARI']:\n",
    "    ari.append(i)\n",
    "    \n",
    "for i in compare_df['MI']:\n",
    "    mi.append(i)\n",
    "    \n",
    "for i in compare_df['HCV']:\n",
    "    hcv.append(i)\n",
    "    \n",
    "for i in compare_df['FM']:\n",
    "    fm.append(i)\n",
    "    \n",
    "for i in compare_df['SC']:\n",
    "    sc.append(i)\n",
    "    \n",
    "for i in compare_df['CH']:\n",
    "    ch.append(i)\n",
    "    \n",
    "for i in compare_df['DB']:\n",
    "    db.append(i)\n",
    "\n",
    "    \n",
    "index=['K-Means','K-Medoids','Wand','Single', 'Average', 'Complete',\n",
    "                            'BIRCH', 'DBSCAN', 'Log. \\n Regression', 'Affinity \\nPropogation', 'Mean Shift' ]\n",
    "\n",
    "df = pd.DataFrame({'ARI': ari, 'MI': mi, 'HCV': hcv, 'FM': fm, 'SC': sc, 'CH': ch, 'DB': db}, index=index)"
   ]
  },
  {
   "cell_type": "code",
   "execution_count": 133,
   "metadata": {},
   "outputs": [
    {
     "data": {
      "text/plain": [
       "<matplotlib.axes._subplots.AxesSubplot at 0x121167f90>"
      ]
     },
     "execution_count": 133,
     "metadata": {},
     "output_type": "execute_result"
    },
    {
     "data": {
      "image/png": "[encoded data removed]",
      "text/plain": [
       "<Figure size 864x576 with 1 Axes>"
      ]
     },
     "metadata": {
      "needs_background": "light"
     },
     "output_type": "display_data"
    }
   ],
   "source": [
    "df.plot.bar(y='ARI', rot=0, figsize=(12,8), fontsize= 8)"
   ]
  },
  {
   "cell_type": "code",
   "execution_count": 134,
   "metadata": {},
   "outputs": [
    {
     "data": {
      "text/plain": [
       "<matplotlib.axes._subplots.AxesSubplot at 0x121363390>"
      ]
     },
     "execution_count": 134,
     "metadata": {},
     "output_type": "execute_result"
    },
    {
     "data": {
      "image/png": "[encoded data removed]",
      "text/plain": [
       "<Figure size 864x576 with 1 Axes>"
      ]
     },
     "metadata": {
      "needs_background": "light"
     },
     "output_type": "display_data"
    }
   ],
   "source": [
    "df.plot.bar(y='MI', rot=0, figsize=(12,8), fontsize= 8)"
   ]
  },
  {
   "cell_type": "code",
   "execution_count": 135,
   "metadata": {},
   "outputs": [
    {
     "data": {
      "text/plain": [
       "<matplotlib.axes._subplots.AxesSubplot at 0x12152ad50>"
      ]
     },
     "execution_count": 135,
     "metadata": {},
     "output_type": "execute_result"
    },
    {
     "data": {
      "image/png": "[encoded data removed]",
      "text/plain": [
       "<Figure size 864x576 with 1 Axes>"
      ]
     },
     "metadata": {
      "needs_background": "light"
     },
     "output_type": "display_data"
    }
   ],
   "source": [
    "df.plot.bar(y='HCV', rot=0, figsize=(12,8), fontsize= 8)"
   ]
  },
  {
   "cell_type": "code",
   "execution_count": 136,
   "metadata": {},
   "outputs": [
    {
     "data": {
      "text/plain": [
       "<matplotlib.axes._subplots.AxesSubplot at 0x12158a7d0>"
      ]
     },
     "execution_count": 136,
     "metadata": {},
     "output_type": "execute_result"
    },
    {
     "data": {
      "image/png": "[encoded data removed]",
      "text/plain": [
       "<Figure size 864x576 with 1 Axes>"
      ]
     },
     "metadata": {
      "needs_background": "light"
     },
     "output_type": "display_data"
    }
   ],
   "source": [
    "df.plot.bar(y='FM', rot=0, figsize=(12,8), fontsize= 8)"
   ]
  },
  {
   "cell_type": "code",
   "execution_count": 137,
   "metadata": {},
   "outputs": [
    {
     "data": {
      "text/plain": [
       "<matplotlib.axes._subplots.AxesSubplot at 0x1218cd9d0>"
      ]
     },
     "execution_count": 137,
     "metadata": {},
     "output_type": "execute_result"
    },
    {
     "data": {
      "image/png": "[encoded data removed]",
      "text/plain": [
       "<Figure size 864x576 with 1 Axes>"
      ]
     },
     "metadata": {
      "needs_background": "light"
     },
     "output_type": "display_data"
    }
   ],
   "source": [
    "df.plot.bar(y='SC', rot=0, figsize=(12,8), fontsize= 8)"
   ]
  },
  {
   "cell_type": "code",
   "execution_count": 138,
   "metadata": {},
   "outputs": [
    {
     "data": {
      "text/plain": [
       "<matplotlib.axes._subplots.AxesSubplot at 0x121aa7690>"
      ]
     },
     "execution_count": 138,
     "metadata": {},
     "output_type": "execute_result"
    },
    {
     "data": {
      "image/png": "[encoded data removed]",
      "text/plain": [
       "<Figure size 864x576 with 1 Axes>"
      ]
     },
     "metadata": {
      "needs_background": "light"
     },
     "output_type": "display_data"
    }
   ],
   "source": [
    "df.plot.bar(y='CH', rot=0, figsize=(12,8), fontsize= 8)"
   ]
  },
  {
   "cell_type": "code",
   "execution_count": 139,
   "metadata": {},
   "outputs": [
    {
     "data": {
      "text/plain": [
       "<matplotlib.axes._subplots.AxesSubplot at 0x121c8c710>"
      ]
     },
     "execution_count": 139,
     "metadata": {},
     "output_type": "execute_result"
    },
    {
     "data": {
      "image/png": "[encoded data removed]",
      "text/plain": [
       "<Figure size 864x576 with 1 Axes>"
      ]
     },
     "metadata": {
      "needs_background": "light"
     },
     "output_type": "display_data"
    }
   ],
   "source": [
    "df.plot.bar(y='DB', rot=0, figsize=(12,8), fontsize= 8)"
   ]
  },
  {
   "cell_type": "code",
   "execution_count": null,
   "metadata": {},
   "outputs": [],
   "source": []
  },
  {
   "cell_type": "code",
   "execution_count": null,
   "metadata": {},
   "outputs": [],
   "source": []
  }
 ],
 "metadata": {
  "kernelspec": {
   "display_name": "Python 3",
   "language": "python",
   "name": "python3"
  },
  "language_info": {
   "codemirror_mode": {
    "name": "ipython",
    "version": 3
   },
   "file_extension": ".py",
   "mimetype": "text/x-python",
   "name": "python",
   "nbconvert_exporter": "python",
   "pygments_lexer": "ipython3",
   "version": "3.7.4"
  }
 },
 "nbformat": 4,
 "nbformat_minor": 2
}
